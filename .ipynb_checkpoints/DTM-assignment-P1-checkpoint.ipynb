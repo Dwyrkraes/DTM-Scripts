{
 "cells": [
  {
   "cell_type": "markdown",
   "metadata": {},
   "source": [
    "# DIGITAL TOOLS AND METHODS - PYTHON ASSIGNMENT P1\n",
    "\n",
    "\n",
    "### Submission instructions\n",
    "\n",
    "You will find questions and tasks throughout this Notebook. Enter your Python code in the designated cells. Make sure you save your work and submit your assignment on Blackboard before the deadline. You will work together with your team members, but you are not allowed to consult with other teams. The assignments will be checked for plagiarism, so please make sure that your submitted work is clearly your own.\n",
    "\n",
    "You will need to hand in two files:\n",
    "\n",
    "1. Your Notebook containing all your code, which should run without error messages. Please make sure to use comments throughout your code to explain what each piece of code is doing. Undocumented blocks of code will not receive points. Your code will also be evaluated with regards to how effective it is in applying the appropriate Python techniques (e.g., is the code using the right data structures, etc.). The readability of your code, output, and comments will also be considered. This means that not all code with the correct output will necessarily receive the full number of points.\n",
    "\n",
    "2. A short report (2-3 pages, in Word or PDF) summarizing for each question what the main challenges were for your team in accomplishing the task, how you came to the solution, and what the results were. At the end of your report write down how tasks were divided (who did what), and briefly describe how you worked together as a team.\n",
    "\n",
    "\n",
    "Deadline: Friday October 14, 2022, 23:59\n",
    "\n",
    "\n"
   ]
  },
  {
   "cell_type": "code",
   "execution_count": 1,
   "metadata": {},
   "outputs": [],
   "source": [
    "# Enter the names and student numbers for your team:\n",
    "\n",
    "student1 = \"Jens van den Bosch 6653871\"\n",
    "student2 = \"Milan de Goede 4666860\"\n",
    "student3 = \"Mats van Rossem 6712223\"\n"
   ]
  },
  {
   "cell_type": "markdown",
   "metadata": {},
   "source": [
    "### Introduction - spelling variation in historic Martian documents\n",
    "\n",
    "For this assignment you will search for spelling variants in a word list from a made-up language, which we will refer to as 'historic Martian'. Spelling rules didn't exist on Mars in the 13th century, and documents from that period therefore contain a large amount of spelling variation. The word *ducovum* ('mountain'), for example, has the historic variants *ducovum*, *ducouvum*, and *ducouvu*. The goal of this assignment is to find historic spelling variants of modern Martian words. The data is provided on Blackboard in the file \"historicMartian.txt\". Make sure to download this file from Blackboard and save it in the same folder as this Notebook.\n",
    "\n"
   ]
  },
  {
   "cell_type": "markdown",
   "metadata": {},
   "source": [
    "### Task 1: Reading and processing the data\n",
    "\n",
    "* Below you are provided with a piece of Python code to open the file and to read the entire contents as a single string. The string is saved in a variable named *text*. Add a print statement to the code to view the data."
   ]
  },
  {
   "cell_type": "code",
   "execution_count": null,
   "metadata": {
    "scrolled": true
   },
   "outputs": [],
   "source": [
    "\n",
    "# The following code is used to read the data:\n",
    "f = open(\"historicMartian.txt\", \"r\")\n",
    "text = f.read()\n",
    "f.close()\n",
    "\n",
    "\n",
    "# ENTER PRINT STATEMENT BELOW\n",
    "\n",
    "\n",
    "\n",
    "\n"
   ]
  },
  {
   "cell_type": "markdown",
   "metadata": {},
   "source": [
    "* You can see that the word list is in alphabetical order. In addition, the frequency of each word (i.e. how often the word occurred in the historic Martian corpus) is given right next to the word. The next step is to process the data and extract the words and frequencies from the large text string, and save it in a more convenient data structure. To help you get started, proceed as follows: \n",
    "\n",
    "  1. Convert the string to a list of lines.\n",
    "  2. Write a for-loop that prints each line. The output should look the same as the original text.\n",
    "  3. Modify your code such that it prints a line only if it contains a word and frequency. This can be achieved by adding an if-statement and a regular expression.\n",
    "  4. Add code that will split each line into the actual word and its frequency. You will need to get rid of whitespaces, and you will need to convert the data to the appropriate object types.\n",
    "  5. Add a counter to the code that counts the total number of word occurrences in the data. Print the total number of word occurrences to the screen.\n",
    "  6. Modify your code such that the data is saved in a dictionary. Words should be the dictionary keys, and frequencies should be the dictionary values. \n",
    "\n",
    "  Test your code by printing the contents of the dictionary in alphabetical order, using a for-loop. Print both the words and the corresponding frequencies.\n",
    "  \n",
    "*What you need to include in your answer below:* This assignment is set up in a way to help you arrive at the final code in a stepwise fashion, solving 6 different coding subproblems as you proceed. You should include your interim code solutions at each step marked as #1, #2, …, #6 in the code cell. As a final step you should test your final code solution following the instructions written above (“Test your code by…”). The code needed to perform this final step should be included under “# Test your code:” in the code cell.\n"
   ]
  },
  {
   "cell_type": "code",
   "execution_count": 1,
   "metadata": {
    "scrolled": false
   },
   "outputs": [
    {
     "ename": "FileNotFoundError",
     "evalue": "[Errno 2] No such file or directory: 'test.txt'",
     "output_type": "error",
     "traceback": [
      "\u001b[1;31m---------------------------------------------------------------------------\u001b[0m",
      "\u001b[1;31mFileNotFoundError\u001b[0m                         Traceback (most recent call last)",
      "Input \u001b[1;32mIn [1]\u001b[0m, in \u001b[0;36m<cell line: 2>\u001b[1;34m()\u001b[0m\n\u001b[0;32m      1\u001b[0m filename \u001b[38;5;241m=\u001b[39m \u001b[38;5;124m'\u001b[39m\u001b[38;5;124mtest.txt\u001b[39m\u001b[38;5;124m'\u001b[39m\n\u001b[1;32m----> 2\u001b[0m f \u001b[38;5;241m=\u001b[39m \u001b[38;5;28;43mopen\u001b[39;49m\u001b[43m(\u001b[49m\u001b[43mfilename\u001b[49m\u001b[43m)\u001b[49m\n\u001b[0;32m      3\u001b[0m data \u001b[38;5;241m=\u001b[39m f\u001b[38;5;241m.\u001b[39mread()\n\u001b[0;32m      4\u001b[0m words \u001b[38;5;241m=\u001b[39m data\u001b[38;5;241m.\u001b[39msplit()\n",
      "\u001b[1;31mFileNotFoundError\u001b[0m: [Errno 2] No such file or directory: 'test.txt'"
     ]
    }
   ],
   "source": [
    "\n",
    "\n",
    "\n",
    "\n",
    "\n",
    "\n",
    "\n",
    "\n",
    "\n",
    "\n",
    "\n",
    "\n",
    "#Counter of Word frequency\n",
    "filename = 'test.txt'\n",
    "f = open(filename)\n",
    "data = f.read()\n",
    "words = data.split()\n",
    "f.close()\n",
    "\n",
    "unwanted_chars = \".,-_ \"\n",
    "wordfreq = {}\n",
    "for raw_word in words:\n",
    "    word = raw_word.strip(unwanted_chars)\n",
    "    if word not in wordfreq:\n",
    "        wordfreq[word] = 0 \n",
    "    wordfreq[word] += 1\n",
    "print(wordfreq)\n"
   ]
  },
  {
   "cell_type": "markdown",
   "metadata": {
    "collapsed": true
   },
   "source": [
    "\n",
    "* Write a piece of code that processes the contents of your dictionary and prints only those words that start with the prefix *emc-*. Use a string method.\n",
    "\n"
   ]
  },
  {
   "cell_type": "code",
   "execution_count": null,
   "metadata": {
    "scrolled": true
   },
   "outputs": [],
   "source": [
    "# ENTER YOUR CODE BELOW\n",
    "\n",
    "\n",
    "\n",
    "\n",
    "\n",
    "\n"
   ]
  },
  {
   "cell_type": "markdown",
   "metadata": {},
   "source": [
    "* Again write a piece of code that processes the contents of your dictionary and prints only those words that start with the prefix *emc-*, but this time use a regular expression."
   ]
  },
  {
   "cell_type": "code",
   "execution_count": null,
   "metadata": {},
   "outputs": [],
   "source": [
    "# ENTER YOUR CODE BELOW\n",
    "\n",
    "\n",
    "\n",
    "\n"
   ]
  },
  {
   "cell_type": "markdown",
   "metadata": {},
   "source": [
    "### Task 2: Searching for spelling variants\n",
    "\n",
    "Historic spelling variations in Martian suffixes are described in the document \"Historic spelling variations in Martian suffixes\" (Adriaans, 2022), which you can download from Blackboard. Use that appendix as a basis for the regular expressions that you will write in this assignment.\n",
    "\n",
    "\n",
    "In Task 2 you will use the dictionary from Task 1 to find words that in their modern spelling would end with *-valg* or *-juab*. The steps for doing this are described below.\n",
    "\n",
    "* Write a piece of code that processes the contents of your dictionary and finds words that end in the suffix -valg, using a regular expression. Instead of printing the results, collect the results in a list named *valg*.  (You don't have to find spelling variants just yet. We'll do that below.) Calculate the number of words that were found and print the number of words to the screen.\n"
   ]
  },
  {
   "cell_type": "code",
   "execution_count": null,
   "metadata": {
    "scrolled": true
   },
   "outputs": [],
   "source": [
    "# ENTER YOUR CODE BELOW\n",
    "\n",
    "\n",
    "\n",
    "\n",
    "\n",
    "\n",
    "\n",
    "\n",
    "\n",
    "\n",
    "\n"
   ]
  },
  {
   "cell_type": "markdown",
   "metadata": {},
   "source": [
    "* Now write a single regular expression that finds all historic words that in their modern spelling would end in -valg, -valgru,  -valgu, or -valgr. Use the spelling document \"Historic spelling variations in Martian suffixes\" (Adriaans, 2022) to determine which variants can occur. Collect the results in a list, print the historic words (one word per line), and print the total number of words that were found. Describe the main strengths and weaknesses of your approach in your report."
   ]
  },
  {
   "cell_type": "code",
   "execution_count": null,
   "metadata": {
    "scrolled": true
   },
   "outputs": [],
   "source": [
    "# ENTER YOUR CODE BELOW\n",
    "\n",
    "\n",
    "\n",
    "\n",
    "\n",
    "\n",
    "\n",
    "\n",
    "\n",
    "\n",
    "\n",
    "\n",
    "\n"
   ]
  },
  {
   "cell_type": "markdown",
   "metadata": {},
   "source": [
    "* Now write a piece of code that finds historic words that in their modern spelling would end in -juab. Collect the results in a list, print the words (one word per line), and print the total number of words that were found. Describe the main strengths and weaknesses of your approach in your report.\n",
    "\n",
    " "
   ]
  },
  {
   "cell_type": "code",
   "execution_count": 1,
   "metadata": {
    "scrolled": true
   },
   "outputs": [],
   "source": [
    "# ENTER YOUR CODE BELOW\n",
    "\n",
    "\n",
    "\n",
    "\n",
    "\n",
    "\n",
    "\n",
    "\n",
    "\n",
    "\n",
    "\n",
    "\n"
   ]
  }
 ],
 "metadata": {
  "anaconda-cloud": {},
  "kernelspec": {
   "display_name": "Python 3 (ipykernel)",
   "language": "python",
   "name": "python3"
  },
  "language_info": {
   "codemirror_mode": {
    "name": "ipython",
    "version": 3
   },
   "file_extension": ".py",
   "mimetype": "text/x-python",
   "name": "python",
   "nbconvert_exporter": "python",
   "pygments_lexer": "ipython3",
   "version": "3.9.12"
  }
 },
 "nbformat": 4,
 "nbformat_minor": 1
}
